{
  "nbformat": 4,
  "nbformat_minor": 0,
  "metadata": {
    "colab": {
      "provenance": []
    },
    "kernelspec": {
      "name": "python3",
      "display_name": "Python 3"
    },
    "language_info": {
      "name": "python"
    }
  },
  "cells": [
    {
      "cell_type": "code",
      "execution_count": 6,
      "metadata": {
        "colab": {
          "base_uri": "https://localhost:8080/"
        },
        "id": "twQhIqSr59Hy",
        "outputId": "b56e4f5d-f131-422c-ff8a-80c46052310d"
      },
      "outputs": [
        {
          "output_type": "stream",
          "name": "stdout",
          "text": [
            "請輸入五個成績並以空白格隔開:94 68 34 100 89\n",
            "刪除最高分和最低分後其餘三個的平均值: 83.66666666666667\n"
          ]
        }
      ],
      "source": [
        "a=input('請輸入五個成績並以空白格隔開:')\n",
        "b=a.split()\n",
        "c=[]\n",
        "c.append(float(b[0]))\n",
        "c.append(float(b[1]))\n",
        "c.append(float(b[2]))\n",
        "c.append(float(b[3]))\n",
        "c.append(float(b[4]))\n",
        "c.remove(max(c))\n",
        "c.remove(min(c))\n",
        "d=sum(c)/len(c)\n",
        "print('刪除最高分和最低分後其餘三個的平均值:',d)"
      ]
    },
    {
      "cell_type": "code",
      "source": [
        "a=input('請輸入第一個數字:')\n",
        "b=input('請輸入第二個數字:')\n",
        "c=input('請輸入+,-,*,/其中一個運算符號:')\n",
        "if c == '+':\n",
        "  Answer=float(a)+float(b)\n",
        "  print('第一個數加第二個數為:',Answer)\n",
        "elif c == '-':\n",
        "  Answer=float(a)-float(b)\n",
        "  print('第一個數減第二個數為:',Answer)\n",
        "elif c == '*':\n",
        "  Answer=float(a)*float(b)\n",
        "  print('第一個數乘第二個數為:',Answer)\n",
        "elif c == '/':\n",
        "  Answer=float(a)/float(b)\n",
        "  print('第一個數除第二個數為:',Answer)\n",
        "else:\n",
        "  print('錯誤')"
      ],
      "metadata": {
        "colab": {
          "base_uri": "https://localhost:8080/"
        },
        "id": "BLV3DeUOAboY",
        "outputId": "d6de3832-3958-4432-abff-4905b582407b"
      },
      "execution_count": null,
      "outputs": [
        {
          "output_type": "stream",
          "name": "stdout",
          "text": [
            "請輸入第一個數字:100\n",
            "請輸入第二個數字:98\n",
            "請輸入+,-,*,/其中一個運算符號:*\n",
            "第一個數乘第二個數為: 9800.0\n"
          ]
        }
      ]
    },
    {
      "cell_type": "code",
      "source": [
        "a=input('請輸入一個年份:')\n",
        "if int(a)<=1582:\n",
        "  if int(a)%4==0:\n",
        "    print('該年是閏年')\n",
        "  else:\n",
        "    print('該年是平年')\n",
        "else:\n",
        "  if (int(a)%4==0 and int(a)%100!=0) or (int(a)%400==0):\n",
        "    print('該年是閏年')\n",
        "  else:\n",
        "    print('該年是平年')"
      ],
      "metadata": {
        "colab": {
          "base_uri": "https://localhost:8080/"
        },
        "id": "tQqRnxN1Cy2c",
        "outputId": "3f48cf0f-7382-4b90-93fa-53fcb7321720"
      },
      "execution_count": 10,
      "outputs": [
        {
          "output_type": "stream",
          "name": "stdout",
          "text": [
            "請輸入一個年份:2400\n",
            "該年是閏年\n"
          ]
        }
      ]
    }
  ]
}
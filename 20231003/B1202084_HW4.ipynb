{
  "nbformat": 4,
  "nbformat_minor": 0,
  "metadata": {
    "colab": {
      "provenance": []
    },
    "kernelspec": {
      "name": "python3",
      "display_name": "Python 3"
    },
    "language_info": {
      "name": "python"
    }
  },
  "cells": [
    {
      "cell_type": "code",
      "execution_count": 1,
      "metadata": {
        "colab": {
          "base_uri": "https://localhost:8080/"
        },
        "id": "twQhIqSr59Hy",
        "outputId": "06fbf4ea-e94d-495e-9e02-1a885b292301"
      },
      "outputs": [
        {
          "output_type": "stream",
          "name": "stdout",
          "text": [
            "請輸入第一個成績:94\n",
            "請輸入第二個成績:68\n",
            "請輸入第三個成績:34\n",
            "請輸入第四個成績:100\n",
            "請輸入第五個成績:89\n",
            "刪除最高分和最低分後其餘三個的平均值: 83.66666666666667\n"
          ]
        }
      ],
      "source": [
        "a=input('請輸入第一個成績:')\n",
        "b=input('請輸入第二個成績:')\n",
        "c=input('請輸入第三個成績:')\n",
        "d=input('請輸入第四個成績:')\n",
        "e=input('請輸入第五個成績:')\n",
        "f=[float(a),float(b),float(c),float(d),float(e)]\n",
        "f.remove(max(f))\n",
        "f.remove(min(f))\n",
        "g=sum(f)/len(f)\n",
        "print('刪除最高分和最低分後其餘三個的平均值:',g)"
      ]
    },
    {
      "cell_type": "code",
      "source": [
        "a=input('請輸入第一個數字:')\n",
        "b=input('請輸入第二個數字:')\n",
        "c=input('請輸入+,-,*,/其中一個運算符號:')\n",
        "if c == '+':\n",
        "  Answer=float(a)+float(b)\n",
        "  print('第一個數加第二個數為:',Answer)\n",
        "elif c == '-':\n",
        "  Answer=float(a)-float(b)\n",
        "  print('第一個數減第二個數為:',Answer)\n",
        "elif c == '*':\n",
        "  Answer=float(a)*float(b)\n",
        "  print('第一個數乘第二個數為:',Answer)\n",
        "elif c == '/':\n",
        "  Answer=float(a)/float(b)\n",
        "  print('第一個數除第二個數為:',Answer)\n",
        "else:\n",
        "  print('錯誤')"
      ],
      "metadata": {
        "colab": {
          "base_uri": "https://localhost:8080/"
        },
        "id": "BLV3DeUOAboY",
        "outputId": "d6de3832-3958-4432-abff-4905b582407b"
      },
      "execution_count": 6,
      "outputs": [
        {
          "output_type": "stream",
          "name": "stdout",
          "text": [
            "請輸入第一個數字:100\n",
            "請輸入第二個數字:98\n",
            "請輸入+,-,*,/其中一個運算符號:*\n",
            "第一個數乘第二個數為: 9800.0\n"
          ]
        }
      ]
    },
    {
      "cell_type": "code",
      "source": [
        "a=input('請輸入一個年份:')\n",
        "if(int(a)%4==0 and int(a)%100!=0) or (int(a)%400==0):\n",
        "  print('該年是閏年')\n",
        "else:\n",
        "  print('該年是平年')"
      ],
      "metadata": {
        "colab": {
          "base_uri": "https://localhost:8080/"
        },
        "id": "tQqRnxN1Cy2c",
        "outputId": "b66c00ba-2184-4130-c1c8-8a68dc350517"
      },
      "execution_count": 9,
      "outputs": [
        {
          "output_type": "stream",
          "name": "stdout",
          "text": [
            "請輸入一個年份:2400\n",
            "該年是閏年\n"
          ]
        }
      ]
    }
  ]
}
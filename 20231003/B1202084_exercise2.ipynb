{
  "nbformat": 4,
  "nbformat_minor": 0,
  "metadata": {
    "colab": {
      "provenance": []
    },
    "kernelspec": {
      "name": "python3",
      "display_name": "Python 3"
    },
    "language_info": {
      "name": "python"
    }
  },
  "cells": [
    {
      "cell_type": "code",
      "execution_count": 20,
      "metadata": {
        "colab": {
          "base_uri": "https://localhost:8080/"
        },
        "id": "V6qIFtaDctWT",
        "outputId": "d2731df7-1888-497d-80ba-b5457e049628"
      },
      "outputs": [
        {
          "output_type": "stream",
          "name": "stdout",
          "text": [
            "A\n",
            "['K', 'H', 'U']\n"
          ]
        }
      ],
      "source": [
        "a='C,B,A'\n",
        "b=['F','G','H']\n",
        "c=a.split(',')\n",
        "d=c+b\n",
        "d[0]='K'\n",
        "print(d.pop(2))\n",
        "d[1:4]=[]\n",
        "d.append('U')\n",
        "print(d)"
      ]
    },
    {
      "cell_type": "code",
      "source": [
        "h=input('身高(cm)：')\n",
        "w=input('體重(kg)：')\n",
        "H=float(h)\n",
        "H/=100\n",
        "\n",
        "bmi=float(w)/(H**2)\n",
        "print('BMI=',bmi)\n",
        "if bmi<18.5:\n",
        "  print('體位:過輕')\n",
        "elif 18.5<=bmi<24:\n",
        "  print('體位:適中')\n",
        "elif 24<=bmi<27:\n",
        "  print('體位:過重')\n",
        "else:\n",
        "  print('體位:肥胖')"
      ],
      "metadata": {
        "colab": {
          "base_uri": "https://localhost:8080/"
        },
        "id": "uhQtSXdolrNL",
        "outputId": "0b7fded3-d2d7-4328-a0c7-098e489c6a42"
      },
      "execution_count": 23,
      "outputs": [
        {
          "output_type": "stream",
          "name": "stdout",
          "text": [
            "身高(cm)：172\n",
            "體重(kg)：51\n",
            "BMI= 17.239048134126556\n",
            "體位:過輕\n"
          ]
        }
      ]
    }
  ]
}
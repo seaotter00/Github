{
  "nbformat": 4,
  "nbformat_minor": 0,
  "metadata": {
    "colab": {
      "provenance": []
    },
    "kernelspec": {
      "name": "python3",
      "display_name": "Python 3"
    },
    "language_info": {
      "name": "python"
    }
  },
  "cells": [
    {
      "cell_type": "code",
      "execution_count": null,
      "metadata": {
        "colab": {
          "base_uri": "https://localhost:8080/"
        },
        "id": "B9tm9cjRiLU4",
        "outputId": "748df2a5-caab-4906-a446-8609431424ae"
      },
      "outputs": [
        {
          "output_type": "stream",
          "name": "stdout",
          "text": [
            "        *        \n",
            "       ***       \n",
            "      *****      \n",
            "     *******     \n",
            "    *********    \n",
            "   ***********   \n",
            "  *************  \n",
            " *************** \n",
            "*****************\n",
            "       ***       \n",
            "       ***       \n",
            "       ***       \n"
          ]
        }
      ],
      "source": [
        "for i in range(1,18,2):\n",
        "  star='*'*i\n",
        "  a=f'{star:^17s}'\n",
        "  print(a)\n",
        "b='***'\n",
        "c=f'{b:^17s}'\n",
        "for i in range(1,4):\n",
        "  print(c)"
      ]
    },
    {
      "cell_type": "code",
      "source": [
        "import random\n",
        "answer=random.sample(range(1, 10), 4)\n",
        "print(\"答案:\", answer)\n",
        "time=0\n",
        "A=0\n",
        "B=0\n",
        "while A != 4:\n",
        "  guess=input(\"請輸入一個四位數：\")\n",
        "  if len(guess) != 4:\n",
        "        print(\"請輸入一個四位數\")\n",
        "        continue\n",
        "  guess=list(guess)\n",
        "  A=0\n",
        "  B=0\n",
        "  for i in range(4):\n",
        "        if int(guess[i]) == answer[i]:\n",
        "            A += 1\n",
        "        elif int(guess[i]) in answer:\n",
        "            B += 1\n",
        "  print(f\"{guess}:{A}A{B}B\")\n",
        "  time += 1\n",
        "  if A == 4:\n",
        "        print(f\"答對了！總共猜了{time}次\")\n",
        "        break"
      ],
      "metadata": {
        "id": "5orcxtJPtNbQ",
        "colab": {
          "base_uri": "https://localhost:8080/"
        },
        "outputId": "d77d36ed-4b11-4051-ee7d-68c1f12748b6"
      },
      "execution_count": 3,
      "outputs": [
        {
          "output_type": "stream",
          "name": "stdout",
          "text": [
            "答案: [1, 4, 9, 2]\n",
            "請輸入一個四位數：11235\n",
            "請輸入一個四位數\n",
            "請輸入一個四位數：1200\n",
            "['1', '2', '0', '0']:1A1B\n",
            "請輸入一個四位數：1420\n",
            "['1', '4', '2', '0']:2A1B\n",
            "請輸入一個四位數：1240\n",
            "['1', '2', '4', '0']:1A2B\n",
            "請輸入一個四位數：1492\n",
            "['1', '4', '9', '2']:4A0B\n",
            "答對了！總共猜了4次\n"
          ]
        }
      ]
    }
  ]
}
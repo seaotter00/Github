{
  "nbformat": 4,
  "nbformat_minor": 0,
  "metadata": {
    "colab": {
      "provenance": []
    },
    "kernelspec": {
      "name": "python3",
      "display_name": "Python 3"
    },
    "language_info": {
      "name": "python"
    }
  },
  "cells": [
    {
      "cell_type": "code",
      "execution_count": 3,
      "metadata": {
        "colab": {
          "base_uri": "https://localhost:8080/"
        },
        "id": "zEti4LNrCl3z",
        "outputId": "2ec75a3d-b4ec-407a-8510-941854e213a3"
      },
      "outputs": [
        {
          "output_type": "stream",
          "name": "stdout",
          "text": [
            "請輸入聖誕樹的高度（至少7層以上）：9\n",
            "        *\n",
            "       ***\n",
            "      *****\n",
            "     *******\n",
            "    *********\n",
            "   ***********\n",
            "  *************\n",
            " ***************\n",
            "*****************\n",
            "       ***\n",
            "       ***\n",
            "       ***\n",
            "       ***\n",
            "       ***\n"
          ]
        }
      ],
      "source": [
        "def christmastree(height):\n",
        "  if height < 7:\n",
        "    print(\"請輸入至少7層以上的聖誕樹高度\")\n",
        "  else:\n",
        "    for i in range(1,height + 1):\n",
        "      space = \" \" * (height - i)\n",
        "      star = \"*\" * (2 * i - 1)\n",
        "      print(space + star)\n",
        "  for i in range(5):\n",
        "    space = \" \" * (height - 2)\n",
        "    star = \"*\" * 3\n",
        "    print(space + star)\n",
        "height = int(input(\"請輸入聖誕樹的高度（至少7層以上）：\"))\n",
        "christmastree(height)"
      ]
    },
    {
      "cell_type": "code",
      "source": [
        "def bmicalculation(height,weight):\n",
        "  try:\n",
        "    heightmeter = height / 100\n",
        "    bmi = weight / (heightmeter ** 2)\n",
        "    return bmi\n",
        "  except Exception:\n",
        "    return 'error'\n",
        "def bmiresult(bmi):\n",
        "  if bmi == 'error':\n",
        "    return '輸入內容錯誤'\n",
        "  if bmi < 18.5:\n",
        "    return \"過輕\"\n",
        "  elif 18.5 <= bmi < 24:\n",
        "    return \"適中\"\n",
        "  elif 24 <= bmi < 27:\n",
        "    return \"過重\"\n",
        "  else:\n",
        "    return \"肥胖\"\n",
        "try:\n",
        "  height = float(input(\"請輸入身高（公分）：\"))\n",
        "  weight = float(input(\"請輸入體重（公斤）：\"))\n",
        "  bmi = bmicalculation(height,weight)\n",
        "  result = bmiresult(bmi)\n",
        "  print(f\"您的BMI為{bmi}\")\n",
        "  print(f\"體位結果：{result}\")\n",
        "except Exception:\n",
        "  print(\"輸入內容錯誤\")"
      ],
      "metadata": {
        "colab": {
          "base_uri": "https://localhost:8080/"
        },
        "id": "JgUh8OWvEVfx",
        "outputId": "50c37ffb-2236-462e-9f60-be081101ef42"
      },
      "execution_count": 13,
      "outputs": [
        {
          "output_type": "stream",
          "name": "stdout",
          "text": [
            "請輸入身高（公分）：172\n",
            "請輸入體重（公斤）：50\n",
            "您的BMI為16.901027582477017\n",
            "體位結果：過輕\n"
          ]
        }
      ]
    }
  ]
}
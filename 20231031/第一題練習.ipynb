{
  "nbformat": 4,
  "nbformat_minor": 0,
  "metadata": {
    "colab": {
      "provenance": []
    },
    "kernelspec": {
      "name": "python3",
      "display_name": "Python 3"
    },
    "language_info": {
      "name": "python"
    }
  },
  "cells": [
    {
      "cell_type": "code",
      "source": [
        "def primeornot(n):\n",
        "    if n <= 1:\n",
        "        return False\n",
        "    for i in range(2, n):\n",
        "        if n % i == 0:\n",
        "            return False\n",
        "    return True\n",
        "def findclosestprime(number):\n",
        "    if number <= 1:\n",
        "        return \"輸入錯誤\"\n",
        "    for i in range(number, 1, -1):\n",
        "        if primeornot(i):\n",
        "          return i\n",
        "    return \"找不到小於或等於的質數\"\n",
        "number = int(input(\"請輸入一個數字：\"))\n",
        "closestprime = findclosestprime(number)\n",
        "if type(closestprime) == int:\n",
        "    print(f\"離 {number} 最近的質數是 {closestprime}\")\n",
        "else:\n",
        "    print(closestprime)"
      ],
      "metadata": {
        "colab": {
          "base_uri": "https://localhost:8080/"
        },
        "id": "GNUMQpQYwmhN",
        "outputId": "d0ef3460-6a73-4f75-f5bb-d6da84ad46e6"
      },
      "execution_count": null,
      "outputs": [
        {
          "output_type": "stream",
          "name": "stdout",
          "text": [
            "請輸入一個數字：26\n",
            "離 26 最近的質數是 23\n"
          ]
        }
      ]
    }
  ]
}
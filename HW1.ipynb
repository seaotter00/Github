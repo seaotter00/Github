{
  "nbformat": 4,
  "nbformat_minor": 0,
  "metadata": {
    "colab": {
      "provenance": []
    },
    "kernelspec": {
      "name": "python3",
      "display_name": "Python 3"
    },
    "language_info": {
      "name": "python"
    }
  },
  "cells": [
    {
      "cell_type": "code",
      "execution_count": null,
      "metadata": {
        "colab": {
          "base_uri": "https://localhost:8080/"
        },
        "id": "MUkjcvCqezq0",
        "outputId": "774b9fd5-a22d-4e4d-ff89-3c8fb6fc3e32"
      },
      "outputs": [
        {
          "output_type": "stream",
          "name": "stdout",
          "text": [
            "HELLO MY BEAUTIFUL WORLD!!!\n"
          ]
        }
      ],
      "source": [
        "x = 'HELLO MY BEAUTIFUL WORLD!!!'\n",
        "print(x)"
      ]
    }
  ]
}